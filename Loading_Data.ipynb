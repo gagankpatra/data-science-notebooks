{
  "nbformat": 4,
  "nbformat_minor": 0,
  "metadata": {
    "colab": {
      "name": "Loading Data.ipynb",
      "version": "0.3.2",
      "provenance": [],
      "include_colab_link": true
    },
    "kernelspec": {
      "name": "python3",
      "display_name": "Python 3"
    }
  },
  "cells": [
    {
      "cell_type": "markdown",
      "metadata": {
        "id": "view-in-github",
        "colab_type": "text"
      },
      "source": [
        "<a href=\"https://colab.research.google.com/github/gagankpatra/data-science-notebooks/blob/master/Loading_Data.ipynb\" target=\"_parent\"><img src=\"https://colab.research.google.com/assets/colab-badge.svg\" alt=\"Open In Colab\"/></a>"
      ]
    },
    {
      "metadata": {
        "id": "UYdMVIjfbYXO",
        "colab_type": "text"
      },
      "cell_type": "markdown",
      "source": [
        "The first step in any machine learning endeavor is to get the raw data into our system. \n",
        "\n",
        "The raw data might be a logfile, dataset file, or database. Furthermore, often we will want to retrieve data from multiple source"
      ]
    },
    {
      "metadata": {
        "id": "FlUGehWKbbGO",
        "colab_type": "text"
      },
      "cell_type": "markdown",
      "source": [
        "# Loading a CSV File"
      ]
    },
    {
      "metadata": {
        "id": "XgVqoymobjM3",
        "colab_type": "code",
        "colab": {
          "resources": {
            "http://localhost:8080/nbextensions/google.colab/files.js": {
              "data": "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",
              "ok": true,
              "headers": [
                [
                  "content-type",
                  "application/javascript"
                ]
              ],
              "status": 200,
              "status_text": ""
            }
          },
          "base_uri": "https://localhost:8080/",
          "height": 75
        },
        "outputId": "87cca72e-444d-4818-9fe2-79717cc63060"
      },
      "cell_type": "code",
      "source": [
        "#Upload files (not folder)<30MB from local machine\n",
        "\n",
        "from google.colab import files\n",
        "uploaded = files.upload() # then browse, select the files. It's then uploaded"
      ],
      "execution_count": 29,
      "outputs": [
        {
          "output_type": "display_data",
          "data": {
            "text/html": [
              "\n",
              "     <input type=\"file\" id=\"files-795bd415-5f16-4355-a4ef-6e5006196ccb\" name=\"files[]\" multiple disabled />\n",
              "     <output id=\"result-795bd415-5f16-4355-a4ef-6e5006196ccb\">\n",
              "      Upload widget is only available when the cell has been executed in the\n",
              "      current browser session. Please rerun this cell to enable.\n",
              "      </output>\n",
              "      <script src=\"/nbextensions/google.colab/files.js\"></script> "
            ],
            "text/plain": [
              "<IPython.core.display.HTML object>"
            ]
          },
          "metadata": {
            "tags": []
          }
        },
        {
          "output_type": "stream",
          "text": [
            "Saving data-text.xlsx to data-text.xlsx\n"
          ],
          "name": "stdout"
        }
      ]
    },
    {
      "metadata": {
        "id": "gRp8vJK3cQ_1",
        "colab_type": "code",
        "colab": {
          "base_uri": "https://localhost:8080/",
          "height": 70
        },
        "outputId": "606c5de9-ca30-46ad-c115-09f72bdfaa30"
      },
      "cell_type": "code",
      "source": [
        "!ls sample_data"
      ],
      "execution_count": 32,
      "outputs": [
        {
          "output_type": "stream",
          "text": [
            "anscombe.json\t\t      data-text.csv   data-text.xml\t     README.md\n",
            "california_housing_test.csv   data-text.json  mnist_test.csv\n",
            "california_housing_train.csv  data-text.xlsx  mnist_train_small.csv\n"
          ],
          "name": "stdout"
        }
      ]
    },
    {
      "metadata": {
        "id": "ygAolTBUdvAC",
        "colab_type": "text"
      },
      "cell_type": "markdown",
      "source": [
        "/Solution/ - using  csv  library.\n",
        "\n",
        "The csv library we are importing comes with your Python installation as part of the standard library (or stdlib)."
      ]
    },
    {
      "metadata": {
        "id": "IowNqaQpboI8",
        "colab_type": "code",
        "colab": {}
      },
      "cell_type": "code",
      "source": [
        "# Load library\n",
        "import csv\n",
        "\n",
        "csvfile = open('sample_data/data-text.csv', 'r')\n",
        "reader = csv.reader(csvfile)\n",
        "\n",
        "for row in enumerate(reader):\n",
        "    print (row) "
      ],
      "execution_count": 0,
      "outputs": []
    },
    {
      "metadata": {
        "id": "4QYyEJ4Ee70v",
        "colab_type": "text"
      },
      "cell_type": "markdown",
      "source": [
        "we optionally specify which mode this file should be opened in (we used 'rb'). \n",
        "\n",
        "If you visit the docs for the open function, you will find that the argument 'rb' means that we open the file as read-only and in binary mode. \n",
        "\n",
        "Opening the file in binary mode allows our code to run on both Windows and Unix-based operating systems. \n",
        "\n",
        "The other common mode is write ('w', or 'wb' for write in binary mode).\n",
        "\n",
        "If you want to read, open in read mode. If you intend to write, open the file in write mode."
      ]
    },
    {
      "metadata": {
        "id": "39t0hfFXhhM_",
        "colab_type": "code",
        "colab": {}
      },
      "cell_type": "code",
      "source": [
        "# When you run the file again after saving it, each record will be a dictionary. The keys in the dictionary come from the first row of the CSV file. All the subsequent rows are values.\n",
        "import csv\n",
        "\n",
        "csvfile = open('sample_data/data-text.csv', 'r')\n",
        "reader = csv.DictReader(csvfile)\n",
        "\n",
        "for row in reader:\n",
        "    print (row)"
      ],
      "execution_count": 0,
      "outputs": []
    },
    {
      "metadata": {
        "id": "J0MPNMB1eVzP",
        "colab_type": "text"
      },
      "cell_type": "markdown",
      "source": [
        "/Solution/ - Use the pandas library’s read_csv to load a local or hosted CSV file. read_csv has over 30 parameters\n",
        "\n",
        "http://pandas.pydata.org/pandas-docs/stable/reference/api/pandas.read_csv.html#pandas.read_csv"
      ]
    },
    {
      "metadata": {
        "id": "9KXqbbtccEH3",
        "colab_type": "code",
        "colab": {
          "base_uri": "https://localhost:8080/",
          "height": 194
        },
        "outputId": "b04ac980-bda8-4e8a-af74-84a14e593a9a"
      },
      "cell_type": "code",
      "source": [
        "# Load library\n",
        "import pandas as pd\n",
        "\n",
        "# Load dataset\n",
        "dataframe = pd.read_csv('sample_data/data-text.csv')\n",
        "\n",
        "# View first two rows\n",
        "dataframe.head(5)"
      ],
      "execution_count": 25,
      "outputs": [
        {
          "output_type": "execute_result",
          "data": {
            "text/html": [
              "<div>\n",
              "<style scoped>\n",
              "    .dataframe tbody tr th:only-of-type {\n",
              "        vertical-align: middle;\n",
              "    }\n",
              "\n",
              "    .dataframe tbody tr th {\n",
              "        vertical-align: top;\n",
              "    }\n",
              "\n",
              "    .dataframe thead th {\n",
              "        text-align: right;\n",
              "    }\n",
              "</style>\n",
              "<table border=\"1\" class=\"dataframe\">\n",
              "  <thead>\n",
              "    <tr style=\"text-align: right;\">\n",
              "      <th></th>\n",
              "      <th>Indicator</th>\n",
              "      <th>PUBLISH STATES</th>\n",
              "      <th>Year</th>\n",
              "      <th>WHO region</th>\n",
              "      <th>World Bank income group</th>\n",
              "      <th>Country</th>\n",
              "      <th>Sex</th>\n",
              "      <th>Display Value</th>\n",
              "      <th>Numeric</th>\n",
              "      <th>Low</th>\n",
              "      <th>High</th>\n",
              "      <th>Comments</th>\n",
              "    </tr>\n",
              "  </thead>\n",
              "  <tbody>\n",
              "    <tr>\n",
              "      <th>0</th>\n",
              "      <td>Life expectancy at birth (years)</td>\n",
              "      <td>Published</td>\n",
              "      <td>1990</td>\n",
              "      <td>Europe</td>\n",
              "      <td>High-income</td>\n",
              "      <td>Andorra</td>\n",
              "      <td>Both sexes</td>\n",
              "      <td>77</td>\n",
              "      <td>77.0</td>\n",
              "      <td>NaN</td>\n",
              "      <td>NaN</td>\n",
              "      <td>NaN</td>\n",
              "    </tr>\n",
              "    <tr>\n",
              "      <th>1</th>\n",
              "      <td>Life expectancy at birth (years)</td>\n",
              "      <td>Published</td>\n",
              "      <td>2000</td>\n",
              "      <td>Europe</td>\n",
              "      <td>High-income</td>\n",
              "      <td>Andorra</td>\n",
              "      <td>Both sexes</td>\n",
              "      <td>80</td>\n",
              "      <td>80.0</td>\n",
              "      <td>NaN</td>\n",
              "      <td>NaN</td>\n",
              "      <td>NaN</td>\n",
              "    </tr>\n",
              "    <tr>\n",
              "      <th>2</th>\n",
              "      <td>Life expectancy at age 60 (years)</td>\n",
              "      <td>Published</td>\n",
              "      <td>2012</td>\n",
              "      <td>Europe</td>\n",
              "      <td>High-income</td>\n",
              "      <td>Andorra</td>\n",
              "      <td>Female</td>\n",
              "      <td>28</td>\n",
              "      <td>28.0</td>\n",
              "      <td>NaN</td>\n",
              "      <td>NaN</td>\n",
              "      <td>NaN</td>\n",
              "    </tr>\n",
              "    <tr>\n",
              "      <th>3</th>\n",
              "      <td>Life expectancy at age 60 (years)</td>\n",
              "      <td>Published</td>\n",
              "      <td>2000</td>\n",
              "      <td>Europe</td>\n",
              "      <td>High-income</td>\n",
              "      <td>Andorra</td>\n",
              "      <td>Both sexes</td>\n",
              "      <td>23</td>\n",
              "      <td>23.0</td>\n",
              "      <td>NaN</td>\n",
              "      <td>NaN</td>\n",
              "      <td>NaN</td>\n",
              "    </tr>\n",
              "    <tr>\n",
              "      <th>4</th>\n",
              "      <td>Life expectancy at birth (years)</td>\n",
              "      <td>Published</td>\n",
              "      <td>2012</td>\n",
              "      <td>Eastern Mediterranean</td>\n",
              "      <td>High-income</td>\n",
              "      <td>United Arab Emirates</td>\n",
              "      <td>Female</td>\n",
              "      <td>78</td>\n",
              "      <td>78.0</td>\n",
              "      <td>NaN</td>\n",
              "      <td>NaN</td>\n",
              "      <td>NaN</td>\n",
              "    </tr>\n",
              "  </tbody>\n",
              "</table>\n",
              "</div>"
            ],
            "text/plain": [
              "                           Indicator PUBLISH STATES  Year  \\\n",
              "0   Life expectancy at birth (years)      Published  1990   \n",
              "1   Life expectancy at birth (years)      Published  2000   \n",
              "2  Life expectancy at age 60 (years)      Published  2012   \n",
              "3  Life expectancy at age 60 (years)      Published  2000   \n",
              "4   Life expectancy at birth (years)      Published  2012   \n",
              "\n",
              "              WHO region World Bank income group               Country  \\\n",
              "0                 Europe             High-income               Andorra   \n",
              "1                 Europe             High-income               Andorra   \n",
              "2                 Europe             High-income               Andorra   \n",
              "3                 Europe             High-income               Andorra   \n",
              "4  Eastern Mediterranean             High-income  United Arab Emirates   \n",
              "\n",
              "          Sex  Display Value  Numeric  Low  High  Comments  \n",
              "0  Both sexes             77     77.0  NaN   NaN       NaN  \n",
              "1  Both sexes             80     80.0  NaN   NaN       NaN  \n",
              "2      Female             28     28.0  NaN   NaN       NaN  \n",
              "3  Both sexes             23     23.0  NaN   NaN       NaN  \n",
              "4      Female             78     78.0  NaN   NaN       NaN  "
            ]
          },
          "metadata": {
            "tags": []
          },
          "execution_count": 25
        }
      ]
    },
    {
      "metadata": {
        "id": "_s9NjhMPbVmF",
        "colab_type": "code",
        "colab": {
          "base_uri": "https://localhost:8080/",
          "height": 194
        },
        "outputId": "7b4be12e-fd84-464a-d6be-fcbee2675c8f"
      },
      "cell_type": "code",
      "source": [
        "# Load library\n",
        "import pandas as pd\n",
        "\n",
        "# Create URL\n",
        "url = 'http://bit.ly/imdbratings'\n",
        "\n",
        "# Load dataset\n",
        "dataframe = pd.read_csv(url)\n",
        "\n",
        "# View first two rows\n",
        "dataframe.head(5)"
      ],
      "execution_count": 4,
      "outputs": [
        {
          "output_type": "execute_result",
          "data": {
            "text/html": [
              "<div>\n",
              "<style scoped>\n",
              "    .dataframe tbody tr th:only-of-type {\n",
              "        vertical-align: middle;\n",
              "    }\n",
              "\n",
              "    .dataframe tbody tr th {\n",
              "        vertical-align: top;\n",
              "    }\n",
              "\n",
              "    .dataframe thead th {\n",
              "        text-align: right;\n",
              "    }\n",
              "</style>\n",
              "<table border=\"1\" class=\"dataframe\">\n",
              "  <thead>\n",
              "    <tr style=\"text-align: right;\">\n",
              "      <th></th>\n",
              "      <th>star_rating</th>\n",
              "      <th>title</th>\n",
              "      <th>content_rating</th>\n",
              "      <th>genre</th>\n",
              "      <th>duration</th>\n",
              "      <th>actors_list</th>\n",
              "    </tr>\n",
              "  </thead>\n",
              "  <tbody>\n",
              "    <tr>\n",
              "      <th>0</th>\n",
              "      <td>9.3</td>\n",
              "      <td>The Shawshank Redemption</td>\n",
              "      <td>R</td>\n",
              "      <td>Crime</td>\n",
              "      <td>142</td>\n",
              "      <td>[u'Tim Robbins', u'Morgan Freeman', u'Bob Gunt...</td>\n",
              "    </tr>\n",
              "    <tr>\n",
              "      <th>1</th>\n",
              "      <td>9.2</td>\n",
              "      <td>The Godfather</td>\n",
              "      <td>R</td>\n",
              "      <td>Crime</td>\n",
              "      <td>175</td>\n",
              "      <td>[u'Marlon Brando', u'Al Pacino', u'James Caan']</td>\n",
              "    </tr>\n",
              "    <tr>\n",
              "      <th>2</th>\n",
              "      <td>9.1</td>\n",
              "      <td>The Godfather: Part II</td>\n",
              "      <td>R</td>\n",
              "      <td>Crime</td>\n",
              "      <td>200</td>\n",
              "      <td>[u'Al Pacino', u'Robert De Niro', u'Robert Duv...</td>\n",
              "    </tr>\n",
              "    <tr>\n",
              "      <th>3</th>\n",
              "      <td>9.0</td>\n",
              "      <td>The Dark Knight</td>\n",
              "      <td>PG-13</td>\n",
              "      <td>Action</td>\n",
              "      <td>152</td>\n",
              "      <td>[u'Christian Bale', u'Heath Ledger', u'Aaron E...</td>\n",
              "    </tr>\n",
              "    <tr>\n",
              "      <th>4</th>\n",
              "      <td>8.9</td>\n",
              "      <td>Pulp Fiction</td>\n",
              "      <td>R</td>\n",
              "      <td>Crime</td>\n",
              "      <td>154</td>\n",
              "      <td>[u'John Travolta', u'Uma Thurman', u'Samuel L....</td>\n",
              "    </tr>\n",
              "  </tbody>\n",
              "</table>\n",
              "</div>"
            ],
            "text/plain": [
              "   star_rating                     title content_rating   genre  duration  \\\n",
              "0          9.3  The Shawshank Redemption              R   Crime       142   \n",
              "1          9.2             The Godfather              R   Crime       175   \n",
              "2          9.1    The Godfather: Part II              R   Crime       200   \n",
              "3          9.0           The Dark Knight          PG-13  Action       152   \n",
              "4          8.9              Pulp Fiction              R   Crime       154   \n",
              "\n",
              "                                         actors_list  \n",
              "0  [u'Tim Robbins', u'Morgan Freeman', u'Bob Gunt...  \n",
              "1    [u'Marlon Brando', u'Al Pacino', u'James Caan']  \n",
              "2  [u'Al Pacino', u'Robert De Niro', u'Robert Duv...  \n",
              "3  [u'Christian Bale', u'Heath Ledger', u'Aaron E...  \n",
              "4  [u'John Travolta', u'Uma Thurman', u'Samuel L....  "
            ]
          },
          "metadata": {
            "tags": []
          },
          "execution_count": 4
        }
      ]
    },
    {
      "metadata": {
        "id": "XmerxLBEgwEr",
        "colab_type": "text"
      },
      "cell_type": "markdown",
      "source": [
        "# Loading an Excel File\n",
        "\n",
        "/Problem/ - You need to import an Excel spreadsheet.\n",
        "\n",
        "/Solution/ - Use the pandas library’s read_excel to load an Excel spreadsheet\n",
        "\n",
        "http://pandas.pydata.org/pandas-docs/stable/reference/api/pandas.read_excel.html#pandas.read_excel"
      ]
    },
    {
      "metadata": {
        "id": "bSyY9vAbdexJ",
        "colab_type": "code",
        "colab": {
          "base_uri": "https://localhost:8080/",
          "height": 194
        },
        "outputId": "ad5a2820-fbfa-486b-e9a3-d5d9d962b063"
      },
      "cell_type": "code",
      "source": [
        "# Load library\n",
        "import pandas as pd\n",
        "\n",
        "# Create URL\n",
        "url = 'sample_data/data-text.xlsx'\n",
        "\n",
        "# Load data\n",
        "dataframe = pd.read_excel(url, sheet_name=0, header=0)\n",
        "\n",
        "# View the first five rows\n",
        "dataframe.head(5)"
      ],
      "execution_count": 108,
      "outputs": [
        {
          "output_type": "execute_result",
          "data": {
            "text/html": [
              "<div>\n",
              "<style scoped>\n",
              "    .dataframe tbody tr th:only-of-type {\n",
              "        vertical-align: middle;\n",
              "    }\n",
              "\n",
              "    .dataframe tbody tr th {\n",
              "        vertical-align: top;\n",
              "    }\n",
              "\n",
              "    .dataframe thead th {\n",
              "        text-align: right;\n",
              "    }\n",
              "</style>\n",
              "<table border=\"1\" class=\"dataframe\">\n",
              "  <thead>\n",
              "    <tr style=\"text-align: right;\">\n",
              "      <th></th>\n",
              "      <th>Indicator</th>\n",
              "      <th>PUBLISH STATES</th>\n",
              "      <th>Year</th>\n",
              "      <th>WHO region</th>\n",
              "      <th>World Bank income group</th>\n",
              "      <th>Country</th>\n",
              "      <th>Sex</th>\n",
              "      <th>Display Value</th>\n",
              "      <th>Numeric</th>\n",
              "      <th>Low</th>\n",
              "      <th>High</th>\n",
              "      <th>Comments</th>\n",
              "    </tr>\n",
              "  </thead>\n",
              "  <tbody>\n",
              "    <tr>\n",
              "      <th>0</th>\n",
              "      <td>Life expectancy at birth (years)</td>\n",
              "      <td>Published</td>\n",
              "      <td>1990</td>\n",
              "      <td>Europe</td>\n",
              "      <td>High-income</td>\n",
              "      <td>Andorra</td>\n",
              "      <td>Both sexes</td>\n",
              "      <td>77</td>\n",
              "      <td>77</td>\n",
              "      <td>NaN</td>\n",
              "      <td>NaN</td>\n",
              "      <td>NaN</td>\n",
              "    </tr>\n",
              "    <tr>\n",
              "      <th>1</th>\n",
              "      <td>Life expectancy at birth (years)</td>\n",
              "      <td>Published</td>\n",
              "      <td>2000</td>\n",
              "      <td>Europe</td>\n",
              "      <td>High-income</td>\n",
              "      <td>Andorra</td>\n",
              "      <td>Both sexes</td>\n",
              "      <td>80</td>\n",
              "      <td>80</td>\n",
              "      <td>NaN</td>\n",
              "      <td>NaN</td>\n",
              "      <td>NaN</td>\n",
              "    </tr>\n",
              "    <tr>\n",
              "      <th>2</th>\n",
              "      <td>Life expectancy at age 60 (years)</td>\n",
              "      <td>Published</td>\n",
              "      <td>2012</td>\n",
              "      <td>Europe</td>\n",
              "      <td>High-income</td>\n",
              "      <td>Andorra</td>\n",
              "      <td>Female</td>\n",
              "      <td>28</td>\n",
              "      <td>28</td>\n",
              "      <td>NaN</td>\n",
              "      <td>NaN</td>\n",
              "      <td>NaN</td>\n",
              "    </tr>\n",
              "    <tr>\n",
              "      <th>3</th>\n",
              "      <td>Life expectancy at age 60 (years)</td>\n",
              "      <td>Published</td>\n",
              "      <td>2000</td>\n",
              "      <td>Europe</td>\n",
              "      <td>High-income</td>\n",
              "      <td>Andorra</td>\n",
              "      <td>Both sexes</td>\n",
              "      <td>23</td>\n",
              "      <td>23</td>\n",
              "      <td>NaN</td>\n",
              "      <td>NaN</td>\n",
              "      <td>NaN</td>\n",
              "    </tr>\n",
              "    <tr>\n",
              "      <th>4</th>\n",
              "      <td>Life expectancy at birth (years)</td>\n",
              "      <td>Published</td>\n",
              "      <td>2012</td>\n",
              "      <td>Eastern Mediterranean</td>\n",
              "      <td>High-income</td>\n",
              "      <td>United Arab Emirates</td>\n",
              "      <td>Female</td>\n",
              "      <td>78</td>\n",
              "      <td>78</td>\n",
              "      <td>NaN</td>\n",
              "      <td>NaN</td>\n",
              "      <td>NaN</td>\n",
              "    </tr>\n",
              "  </tbody>\n",
              "</table>\n",
              "</div>"
            ],
            "text/plain": [
              "                           Indicator PUBLISH STATES  Year  \\\n",
              "0   Life expectancy at birth (years)      Published  1990   \n",
              "1   Life expectancy at birth (years)      Published  2000   \n",
              "2  Life expectancy at age 60 (years)      Published  2012   \n",
              "3  Life expectancy at age 60 (years)      Published  2000   \n",
              "4   Life expectancy at birth (years)      Published  2012   \n",
              "\n",
              "              WHO region World Bank income group               Country  \\\n",
              "0                 Europe             High-income               Andorra   \n",
              "1                 Europe             High-income               Andorra   \n",
              "2                 Europe             High-income               Andorra   \n",
              "3                 Europe             High-income               Andorra   \n",
              "4  Eastern Mediterranean             High-income  United Arab Emirates   \n",
              "\n",
              "          Sex  Display Value  Numeric  Low  High  Comments  \n",
              "0  Both sexes             77       77  NaN   NaN       NaN  \n",
              "1  Both sexes             80       80  NaN   NaN       NaN  \n",
              "2      Female             28       28  NaN   NaN       NaN  \n",
              "3  Both sexes             23       23  NaN   NaN       NaN  \n",
              "4      Female             78       78  NaN   NaN       NaN  "
            ]
          },
          "metadata": {
            "tags": []
          },
          "execution_count": 108
        }
      ]
    },
    {
      "metadata": {
        "id": "L2d_Irp93u25",
        "colab_type": "text"
      },
      "cell_type": "markdown",
      "source": [
        "Selecting subset of columns"
      ]
    },
    {
      "metadata": {
        "id": "5lMGwo8-3s5U",
        "colab_type": "code",
        "colab": {}
      },
      "cell_type": "code",
      "source": [
        "df = pd.DataFrame(pd.read_excel(url, sheet_name=0, header=0), columns= ['Country'])\n",
        "print (df)"
      ],
      "execution_count": 0,
      "outputs": []
    },
    {
      "metadata": {
        "id": "81r33fZDiAir",
        "colab_type": "text"
      },
      "cell_type": "markdown",
      "source": [
        "# Loading a JSON File\n",
        "\n",
        "/Solution/ - using  json  library."
      ]
    },
    {
      "metadata": {
        "id": "aJHprd_qgvua",
        "colab_type": "code",
        "colab": {}
      },
      "cell_type": "code",
      "source": [
        "# Load library\n",
        "import json\n",
        "\n",
        "# Read dataset\n",
        "json_data = open('sample_data/data-text.json').read()\n",
        "\n",
        "# Load dataset\n",
        "data = json.loads(json_data)\n",
        "\n",
        "for item in data:\n",
        "    print (item)"
      ],
      "execution_count": 0,
      "outputs": []
    },
    {
      "metadata": {
        "id": "oaiqno4yi2Bf",
        "colab_type": "text"
      },
      "cell_type": "markdown",
      "source": [
        "/Solution/ - The pandas library provides read_json to convert a JSON file into a pandas object"
      ]
    },
    {
      "metadata": {
        "id": "FnmvQjGDiAY3",
        "colab_type": "code",
        "colab": {
          "base_uri": "https://localhost:8080/",
          "height": 194
        },
        "outputId": "fae88e70-bb4f-4054-ebad-f3b90af34f6a"
      },
      "cell_type": "code",
      "source": [
        "# Load library\n",
        "import pandas as pd\n",
        "\n",
        "# Load data\n",
        "dataframe = pd.read_json('sample_data/data-text.json', orient='columns')\n",
        "\n",
        "# View the first five rows\n",
        "dataframe.head(5)"
      ],
      "execution_count": 43,
      "outputs": [
        {
          "output_type": "execute_result",
          "data": {
            "text/html": [
              "<div>\n",
              "<style scoped>\n",
              "    .dataframe tbody tr th:only-of-type {\n",
              "        vertical-align: middle;\n",
              "    }\n",
              "\n",
              "    .dataframe tbody tr th {\n",
              "        vertical-align: top;\n",
              "    }\n",
              "\n",
              "    .dataframe thead th {\n",
              "        text-align: right;\n",
              "    }\n",
              "</style>\n",
              "<table border=\"1\" class=\"dataframe\">\n",
              "  <thead>\n",
              "    <tr style=\"text-align: right;\">\n",
              "      <th></th>\n",
              "      <th>Comments</th>\n",
              "      <th>Country</th>\n",
              "      <th>Display Value</th>\n",
              "      <th>High</th>\n",
              "      <th>Indicator</th>\n",
              "      <th>Low</th>\n",
              "      <th>Numeric</th>\n",
              "      <th>PUBLISH STATES</th>\n",
              "      <th>Sex</th>\n",
              "      <th>WHO region</th>\n",
              "      <th>World Bank income group</th>\n",
              "      <th>Year</th>\n",
              "    </tr>\n",
              "  </thead>\n",
              "  <tbody>\n",
              "    <tr>\n",
              "      <th>0</th>\n",
              "      <td></td>\n",
              "      <td>Andorra</td>\n",
              "      <td>77</td>\n",
              "      <td></td>\n",
              "      <td>Life expectancy at birth (years)</td>\n",
              "      <td></td>\n",
              "      <td>77</td>\n",
              "      <td>Published</td>\n",
              "      <td>Both sexes</td>\n",
              "      <td>Europe</td>\n",
              "      <td>High-income</td>\n",
              "      <td>1990</td>\n",
              "    </tr>\n",
              "    <tr>\n",
              "      <th>1</th>\n",
              "      <td></td>\n",
              "      <td>Andorra</td>\n",
              "      <td>80</td>\n",
              "      <td></td>\n",
              "      <td>Life expectancy at birth (years)</td>\n",
              "      <td></td>\n",
              "      <td>80</td>\n",
              "      <td>Published</td>\n",
              "      <td>Both sexes</td>\n",
              "      <td>Europe</td>\n",
              "      <td>High-income</td>\n",
              "      <td>2000</td>\n",
              "    </tr>\n",
              "    <tr>\n",
              "      <th>2</th>\n",
              "      <td></td>\n",
              "      <td>Andorra</td>\n",
              "      <td>28</td>\n",
              "      <td></td>\n",
              "      <td>Life expectancy at age 60 (years)</td>\n",
              "      <td></td>\n",
              "      <td>28</td>\n",
              "      <td>Published</td>\n",
              "      <td>Female</td>\n",
              "      <td>Europe</td>\n",
              "      <td>High-income</td>\n",
              "      <td>2012</td>\n",
              "    </tr>\n",
              "    <tr>\n",
              "      <th>3</th>\n",
              "      <td></td>\n",
              "      <td>Andorra</td>\n",
              "      <td>23</td>\n",
              "      <td></td>\n",
              "      <td>Life expectancy at age 60 (years)</td>\n",
              "      <td></td>\n",
              "      <td>23</td>\n",
              "      <td>Published</td>\n",
              "      <td>Both sexes</td>\n",
              "      <td>Europe</td>\n",
              "      <td>High-income</td>\n",
              "      <td>2000</td>\n",
              "    </tr>\n",
              "    <tr>\n",
              "      <th>4</th>\n",
              "      <td></td>\n",
              "      <td>United Arab Emirates</td>\n",
              "      <td>78</td>\n",
              "      <td></td>\n",
              "      <td>Life expectancy at birth (years)</td>\n",
              "      <td></td>\n",
              "      <td>78</td>\n",
              "      <td>Published</td>\n",
              "      <td>Female</td>\n",
              "      <td>Eastern Mediterranean</td>\n",
              "      <td>High-income</td>\n",
              "      <td>2012</td>\n",
              "    </tr>\n",
              "  </tbody>\n",
              "</table>\n",
              "</div>"
            ],
            "text/plain": [
              "  Comments               Country  Display Value High  \\\n",
              "0                        Andorra             77        \n",
              "1                        Andorra             80        \n",
              "2                        Andorra             28        \n",
              "3                        Andorra             23        \n",
              "4           United Arab Emirates             78        \n",
              "\n",
              "                           Indicator Low  Numeric PUBLISH STATES         Sex  \\\n",
              "0   Life expectancy at birth (years)           77      Published  Both sexes   \n",
              "1   Life expectancy at birth (years)           80      Published  Both sexes   \n",
              "2  Life expectancy at age 60 (years)           28      Published      Female   \n",
              "3  Life expectancy at age 60 (years)           23      Published  Both sexes   \n",
              "4   Life expectancy at birth (years)           78      Published      Female   \n",
              "\n",
              "              WHO region World Bank income group  Year  \n",
              "0                 Europe             High-income  1990  \n",
              "1                 Europe             High-income  2000  \n",
              "2                 Europe             High-income  2012  \n",
              "3                 Europe             High-income  2000  \n",
              "4  Eastern Mediterranean             High-income  2012  "
            ]
          },
          "metadata": {
            "tags": []
          },
          "execution_count": 43
        }
      ]
    },
    {
      "metadata": {
        "id": "ekvK2VOdjWt6",
        "colab_type": "text"
      },
      "cell_type": "markdown",
      "source": [
        "Normalize semi-structured JSON data into a flat table.\n",
        "\n",
        "pandas.io.json.json_normalize(data, record_path=None, meta=None, meta_prefix=None, record_prefix=None, errors='raise', sep='.')"
      ]
    },
    {
      "metadata": {
        "id": "SKnD38SneTZi",
        "colab_type": "code",
        "colab": {
          "base_uri": "https://localhost:8080/",
          "height": 135
        },
        "outputId": "ba64a874-79b9-41d3-edbf-9d634cd16c3a"
      },
      "cell_type": "code",
      "source": [
        "from pandas.io.json import json_normalize\n",
        "\n",
        "data = [{'id': 1, 'name': {'first': 'Coleen', 'last': 'Volk'}},{'name': {'given': 'Mose', 'family': 'Regner'}},{'id': 2, 'name': 'Faye Raker'}]\n",
        "\n",
        "json_normalize(data)"
      ],
      "execution_count": 44,
      "outputs": [
        {
          "output_type": "execute_result",
          "data": {
            "text/html": [
              "<div>\n",
              "<style scoped>\n",
              "    .dataframe tbody tr th:only-of-type {\n",
              "        vertical-align: middle;\n",
              "    }\n",
              "\n",
              "    .dataframe tbody tr th {\n",
              "        vertical-align: top;\n",
              "    }\n",
              "\n",
              "    .dataframe thead th {\n",
              "        text-align: right;\n",
              "    }\n",
              "</style>\n",
              "<table border=\"1\" class=\"dataframe\">\n",
              "  <thead>\n",
              "    <tr style=\"text-align: right;\">\n",
              "      <th></th>\n",
              "      <th>id</th>\n",
              "      <th>name</th>\n",
              "      <th>name.family</th>\n",
              "      <th>name.first</th>\n",
              "      <th>name.given</th>\n",
              "      <th>name.last</th>\n",
              "    </tr>\n",
              "  </thead>\n",
              "  <tbody>\n",
              "    <tr>\n",
              "      <th>0</th>\n",
              "      <td>1.0</td>\n",
              "      <td>NaN</td>\n",
              "      <td>NaN</td>\n",
              "      <td>Coleen</td>\n",
              "      <td>NaN</td>\n",
              "      <td>Volk</td>\n",
              "    </tr>\n",
              "    <tr>\n",
              "      <th>1</th>\n",
              "      <td>NaN</td>\n",
              "      <td>NaN</td>\n",
              "      <td>Regner</td>\n",
              "      <td>NaN</td>\n",
              "      <td>Mose</td>\n",
              "      <td>NaN</td>\n",
              "    </tr>\n",
              "    <tr>\n",
              "      <th>2</th>\n",
              "      <td>2.0</td>\n",
              "      <td>Faye Raker</td>\n",
              "      <td>NaN</td>\n",
              "      <td>NaN</td>\n",
              "      <td>NaN</td>\n",
              "      <td>NaN</td>\n",
              "    </tr>\n",
              "  </tbody>\n",
              "</table>\n",
              "</div>"
            ],
            "text/plain": [
              "    id        name name.family name.first name.given name.last\n",
              "0  1.0         NaN         NaN     Coleen        NaN      Volk\n",
              "1  NaN         NaN      Regner        NaN       Mose       NaN\n",
              "2  2.0  Faye Raker         NaN        NaN        NaN       NaN"
            ]
          },
          "metadata": {
            "tags": []
          },
          "execution_count": 44
        }
      ]
    },
    {
      "metadata": {
        "id": "l6UD7TtJ0tUS",
        "colab_type": "text"
      },
      "cell_type": "markdown",
      "source": [
        "# Loading a XML  File\n",
        "\n",
        "/Solution/ - using  xml.etree library."
      ]
    },
    {
      "metadata": {
        "id": "TsdLfy7gdt5b",
        "colab_type": "code",
        "colab": {
          "base_uri": "https://localhost:8080/",
          "height": 194
        },
        "outputId": "8559a45a-bb8f-43c4-9113-e281ac2231e4"
      },
      "cell_type": "code",
      "source": [
        "import pandas as pd\n",
        "from xml.etree import ElementTree as ET\n",
        "\n",
        "tree = ET.parse('sample_data/data-text.xml')\n",
        "root = tree.getroot()\n",
        "data = root.find('Data')\n",
        "\n",
        "all_data = []\n",
        "\n",
        "for observation in data:\n",
        "    record = {}\n",
        "    for item in observation:\n",
        "        lookup_key = list(item.attrib.keys())[0]\n",
        "        \n",
        "        if lookup_key == 'Numeric':\n",
        "            rec_key = 'NUMERIC'\n",
        "            rec_value = item.attrib['Numeric']\n",
        "        else:\n",
        "            rec_key = item.attrib[lookup_key]\n",
        "            rec_value = item.attrib['Code']\n",
        "\n",
        "        record[rec_key] = rec_value\n",
        "        \n",
        "    all_data.append(record)\n",
        "\n",
        "# Load data\n",
        "dataframe = pd.DataFrame(all_data)\n",
        "\n",
        "# View the first five rows\n",
        "dataframe.head(5)"
      ],
      "execution_count": 105,
      "outputs": [
        {
          "output_type": "execute_result",
          "data": {
            "text/html": [
              "<div>\n",
              "<style scoped>\n",
              "    .dataframe tbody tr th:only-of-type {\n",
              "        vertical-align: middle;\n",
              "    }\n",
              "\n",
              "    .dataframe tbody tr th {\n",
              "        vertical-align: top;\n",
              "    }\n",
              "\n",
              "    .dataframe thead th {\n",
              "        text-align: right;\n",
              "    }\n",
              "</style>\n",
              "<table border=\"1\" class=\"dataframe\">\n",
              "  <thead>\n",
              "    <tr style=\"text-align: right;\">\n",
              "      <th></th>\n",
              "      <th>COUNTRY</th>\n",
              "      <th>GHO</th>\n",
              "      <th>NUMERIC</th>\n",
              "      <th>PUBLISHSTATE</th>\n",
              "      <th>REGION</th>\n",
              "      <th>SEX</th>\n",
              "      <th>WORLDBANKINCOMEGROUP</th>\n",
              "      <th>YEAR</th>\n",
              "    </tr>\n",
              "  </thead>\n",
              "  <tbody>\n",
              "    <tr>\n",
              "      <th>0</th>\n",
              "      <td>AND</td>\n",
              "      <td>WHOSIS_000001</td>\n",
              "      <td>77.00000</td>\n",
              "      <td>PUBLISHED</td>\n",
              "      <td>EUR</td>\n",
              "      <td>BTSX</td>\n",
              "      <td>WB_HI</td>\n",
              "      <td>1990</td>\n",
              "    </tr>\n",
              "    <tr>\n",
              "      <th>1</th>\n",
              "      <td>AND</td>\n",
              "      <td>WHOSIS_000001</td>\n",
              "      <td>80.00000</td>\n",
              "      <td>PUBLISHED</td>\n",
              "      <td>EUR</td>\n",
              "      <td>BTSX</td>\n",
              "      <td>WB_HI</td>\n",
              "      <td>2000</td>\n",
              "    </tr>\n",
              "    <tr>\n",
              "      <th>2</th>\n",
              "      <td>AND</td>\n",
              "      <td>WHOSIS_000015</td>\n",
              "      <td>28.00000</td>\n",
              "      <td>PUBLISHED</td>\n",
              "      <td>EUR</td>\n",
              "      <td>FMLE</td>\n",
              "      <td>WB_HI</td>\n",
              "      <td>2012</td>\n",
              "    </tr>\n",
              "    <tr>\n",
              "      <th>3</th>\n",
              "      <td>AND</td>\n",
              "      <td>WHOSIS_000015</td>\n",
              "      <td>23.00000</td>\n",
              "      <td>PUBLISHED</td>\n",
              "      <td>EUR</td>\n",
              "      <td>BTSX</td>\n",
              "      <td>WB_HI</td>\n",
              "      <td>2000</td>\n",
              "    </tr>\n",
              "    <tr>\n",
              "      <th>4</th>\n",
              "      <td>ARE</td>\n",
              "      <td>WHOSIS_000001</td>\n",
              "      <td>78.00000</td>\n",
              "      <td>PUBLISHED</td>\n",
              "      <td>EMR</td>\n",
              "      <td>FMLE</td>\n",
              "      <td>WB_HI</td>\n",
              "      <td>2012</td>\n",
              "    </tr>\n",
              "  </tbody>\n",
              "</table>\n",
              "</div>"
            ],
            "text/plain": [
              "  COUNTRY            GHO   NUMERIC PUBLISHSTATE REGION   SEX  \\\n",
              "0     AND  WHOSIS_000001  77.00000    PUBLISHED    EUR  BTSX   \n",
              "1     AND  WHOSIS_000001  80.00000    PUBLISHED    EUR  BTSX   \n",
              "2     AND  WHOSIS_000015  28.00000    PUBLISHED    EUR  FMLE   \n",
              "3     AND  WHOSIS_000015  23.00000    PUBLISHED    EUR  BTSX   \n",
              "4     ARE  WHOSIS_000001  78.00000    PUBLISHED    EMR  FMLE   \n",
              "\n",
              "  WORLDBANKINCOMEGROUP  YEAR  \n",
              "0                WB_HI  1990  \n",
              "1                WB_HI  2000  \n",
              "2                WB_HI  2012  \n",
              "3                WB_HI  2000  \n",
              "4                WB_HI  2012  "
            ]
          },
          "metadata": {
            "tags": []
          },
          "execution_count": 105
        }
      ]
    },
    {
      "metadata": {
        "id": "k-wFmjcN1A_N",
        "colab_type": "text"
      },
      "cell_type": "markdown",
      "source": [
        "# Querying a SQL Database\n",
        "\n",
        "/Problem/ - You need to load data from a database using the structured query language (SQL).\n",
        "\n",
        "/Solution/ -  pandas’ read_sql_query allows us to make a SQL query to a database and load it"
      ]
    },
    {
      "metadata": {
        "id": "34DTAIDxkzbx",
        "colab_type": "code",
        "colab": {}
      },
      "cell_type": "code",
      "source": [
        "# Load libraries\n",
        "import pandas as pd\n",
        "from sqlalchemy import create_engine\n",
        "\n",
        "# Create a connection to the database\n",
        "database_connection = create_engine('sqlite:///sample.db')\n",
        "\n",
        "# Load data\n",
        "dataframe = pd.read_sql_query('SELECT * FROM data', database_connection)\n",
        "\n",
        "# View first five rows\n",
        "dataframe.head(5)"
      ],
      "execution_count": 0,
      "outputs": []
    },
    {
      "metadata": {
        "id": "A6u-UNbd8SSq",
        "colab_type": "text"
      },
      "cell_type": "markdown",
      "source": [
        "# Connect Python to SQL Server using pyodbc\n"
      ]
    },
    {
      "metadata": {
        "id": "aObZytFj8sWi",
        "colab_type": "code",
        "colab": {}
      },
      "cell_type": "code",
      "source": [
        "!pip install pyodbc"
      ],
      "execution_count": 0,
      "outputs": []
    },
    {
      "metadata": {
        "id": "2cUDwEDk8o9D",
        "colab_type": "code",
        "colab": {}
      },
      "cell_type": "code",
      "source": [
        "import pyodbc \n",
        "conn = pyodbc.connect('Driver={SQL Server};'\n",
        "                      'Server=server_name;'\n",
        "                      'Database=db_name;'\n",
        "                      'Trusted_Connection=yes;')\n",
        "\n",
        "cursor = conn.cursor()\n",
        "cursor.execute('SELECT * FROM db_name.Table')\n",
        "\n",
        "for row in cursor:\n",
        "    print(row)"
      ],
      "execution_count": 0,
      "outputs": []
    },
    {
      "metadata": {
        "id": "xb7ElaOR537Z",
        "colab_type": "text"
      },
      "cell_type": "markdown",
      "source": [
        "# Connect Python to Oracle\n",
        "\n",
        "Step 1: Install the cx_Oracle package\n",
        " \n",
        "Step 2: Retrieve the connection information. You can do that by locating your tnsnames.ora file on your computer (e.g., type tnsnames.ora in the Windows search bar)\n",
        "\n",
        "Step 3: check for Host Name, Port Number and  Service Name\n",
        "                \n",
        "SYSTEM_OCON =\n",
        "(DESCRIPTION =\n",
        "(ADDRESS = (PROTOCOL = TCP)(HOST = Host Name)(PORT = Port Number))\n",
        "(LOAD_BALANCE = YES)\n",
        "(CONNECT_DATA =\n",
        "(SERVER = DEDICATED)\n",
        "(SERVICE_NAME = Service Name)\n",
        "(FAILOVER_MODE =\n",
        "(TYPE = SELECT)\n",
        "(METHOD = BASIC)\n",
        "(RETRIES = 180)\n",
        "(DELAY = 5)\n"
      ]
    },
    {
      "metadata": {
        "id": "Hg-abtqm877R",
        "colab_type": "code",
        "colab": {}
      },
      "cell_type": "code",
      "source": [
        "!python -m pip install cx_Oracle --upgrade"
      ],
      "execution_count": 0,
      "outputs": []
    },
    {
      "metadata": {
        "id": "Bbtyho8wuSX7",
        "colab_type": "code",
        "colab": {}
      },
      "cell_type": "code",
      "source": [
        "import cx_Oracle\n",
        "\n",
        "dsn_tns = cx_Oracle.makedsn('Host Name', 'Port Number', service_name='Service Name') #if needed, place an 'r' before any parameter in order to address any special character such as '\\'.\n",
        "\n",
        "conn = cx_Oracle.connect(user=r'User Name', password='Personal Password', dsn=dsn_tns) #if needed, place an 'r' before any parameter in order to address any special character such as '\\'. For example, if your user name contains '\\', you'll need to place 'r' before the user name: user=r'User Name'\n",
        "\n",
        "cursor = conn.cursor()\n",
        "\n",
        "cursor.execute(\n",
        "'''select\n",
        "client_id,\n",
        "client_first_name,\n",
        "client_last_name,\n",
        "units_ordered,\n",
        "product_price_per_unit,\n",
        "product_name,\n",
        "((units_ordered) * (product_price_per_unit)) AS revenue\n",
        "from tracking_sales''')\n",
        " \n",
        "for row in cursor.fetchall():\n",
        "    print (row)\n",
        "       \n",
        "cursor.execute(\n",
        "'''select\n",
        "sum(((units_ordered) * (product_price_per_unit))) AS total_revenue\n",
        "from tracking_sales''')\n",
        "    \n",
        "for row in cursor.fetchall():\n",
        "    print (row)\n",
        "    \n",
        "cursor.execute(\n",
        "'''select\n",
        "ts.client_id,\n",
        "ts.client_first_name,\n",
        "ts.client_last_name,\n",
        "ts.units_ordered,\n",
        "ts.product_price_per_unit,\n",
        "ts.product_name,\n",
        "((ts.units_ordered) * (ts.product_price_per_unit)) AS revenue,\n",
        "sc.country\n",
        "from tracking_sales ts\n",
        "left join shipping_country sc on ts.client_id = sc.client_id \n",
        "''')\n",
        "     \n",
        "for row in cursor.fetchall():\n",
        "    print (row)"
      ],
      "execution_count": 0,
      "outputs": []
    },
    {
      "metadata": {
        "id": "j2jCsiD9uo4K",
        "colab_type": "code",
        "colab": {}
      },
      "cell_type": "code",
      "source": [
        ""
      ],
      "execution_count": 0,
      "outputs": []
    }
  ]
}